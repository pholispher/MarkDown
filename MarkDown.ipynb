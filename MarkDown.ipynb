{
 "cells": [
  {
   "cell_type": "markdown",
   "metadata": {},
   "source": [
    "# Markdown 学习\n",
    "> 主要利用 [CSDN](https://blog.csdn.net/weixin_44852067/article/details/122220945?ops_request_misc=%257B%2522request%255Fid%2522%253A%2522169802681916800222839635%2522%252C%2522scm%2522%253A%252220140713.130102334..%2522%257D&request_id=169802681916800222839635&biz_id=0&utm_medium=distribute.pc_search_result.none-task-blog-2~all~top_positive~default-1-122220945-null-null.142^v96^pc_search_result_base6&utm_term=jupyter%20markdown&spm=1018.2226.3001.4187)"
   ]
  },
  {
   "cell_type": "markdown",
   "metadata": {},
   "source": [
    "## 二级标题    利用#实现\n",
    "### 三级标题"
   ]
  },
  {
   "cell_type": "markdown",
   "metadata": {},
   "source": [
    "## 文字设置  "
   ]
  },
  {
   "cell_type": "markdown",
   "metadata": {},
   "source": [
    "### 加粗文本 \n",
    "利用”** + 文字 + **“ 实现  **加粗文本**"
   ]
  },
  {
   "cell_type": "markdown",
   "metadata": {},
   "source": [
    "### 斜体文本\n",
    "利用“_ 文字 _ \" 实现  _斜体文本_"
   ]
  },
  {
   "cell_type": "markdown",
   "metadata": {},
   "source": [
    "### 删除线\n",
    "利用 ”~ 文字 ~“ 实现 ~删除线~"
   ]
  },
  {
   "cell_type": "markdown",
   "metadata": {},
   "source": [
    "### 高亮文本\n",
    "利用”\\`\"实现 `高亮文本`"
   ]
  },
  {
   "cell_type": "markdown",
   "metadata": {},
   "source": [
    "### 区块引用\n",
    "在文本前加不同数量的> 实现\n",
    "> 第一层\n",
    ">> 第二层\n",
    ">>> 第三层"
   ]
  },
  {
   "cell_type": "markdown",
   "metadata": {},
   "source": [
    "## 设置标题序号\n"
   ]
  },
  {
   "cell_type": "markdown",
   "metadata": {},
   "source": [
    "### 无序序号\n",
    ">利用\"+ * - \" 任意一个都行\n",
    "+ 第一\n",
    "- 第二\n",
    "* 第三"
   ]
  },
  {
   "cell_type": "markdown",
   "metadata": {},
   "source": [
    "### 有序序号\n",
    ">在文本前加入“1.” “2.”即可\n",
    "1. 第一\n",
    "2. 第二\n",
    "3. 第三\n"
   ]
  },
  {
   "cell_type": "markdown",
   "metadata": {},
   "source": [
    "## 添加链接 \n",
    ">输入网站链接同时 更改网址名称 中括号\"[]\" 重命名 小括号“（）”添加网站\n",
    "\n",
    "[YouTube](www.youtube.com)"
   ]
  },
  {
   "cell_type": "markdown",
   "metadata": {},
   "source": [
    "## 水平分割线\n",
    "> 输入时 需要分割线进行分割 输入三个及以上“-”或“*“\n",
    "---\n",
    "**水平分割线**   (加粗字体)\n",
    "***"
   ]
  },
  {
   "cell_type": "markdown",
   "metadata": {},
   "source": [
    "## 代码高亮\n",
    "利用 “```” 包裹    **`代码`**\n",
    "```python\n",
    "print(\"hello world\")\n",
    "```"
   ]
  },
  {
   "cell_type": "markdown",
   "metadata": {},
   "source": [
    "## 行内代码\n",
    ">利用 “ \\` ”  将 **`代码`**  前后包裹 高亮所选部分\n",
    "\n",
    "你好 `print(\"hello world)` 世界"
   ]
  },
  {
   "cell_type": "markdown",
   "metadata": {},
   "source": [
    "## 换行操作\n"
   ]
  },
  {
   "cell_type": "markdown",
   "metadata": {},
   "source": [
    ">使用\"\\<p\\> \\<br\\> \\<br\\/\\> \\<br \\/\\>\" 来实现换行操作 **使用\\<p\\>的行距会比\\<br\\>行距大**\n",
    "\n",
    "第一段<p>\n",
    "第二段\n",
    "\n",
    "第三段<br/>\n",
    "第四段\n",
    "\n",
    "*似乎\\<p\\>是换行+空一行 \\<br\\>单纯换行*"
   ]
  },
  {
   "cell_type": "markdown",
   "metadata": {},
   "source": [
    "## 制作表格\n",
    ">列与列之间利用\\| 分割  行与行之间用\\----\n",
    "\n",
    "序号|昵称|标签\n",
    "-----|-----|-----\n",
    "1.|Violet|紫罗兰\n",
    "2.|榀子|昨夜之歌"
   ]
  },
  {
   "cell_type": "markdown",
   "metadata": {},
   "source": [
    "## HTML格式生成图片\n",
    "> 格式 \\<img src='图片地址' width='图片宽度'><p>\n",
    "\n",
    "<img src=https://c-ssl.dtstatic.com/uploads/blog/202012/20/20201220003007_bfb60.thumb.1000_0.jpg width=100>"
   ]
  },
  {
   "cell_type": "markdown",
   "metadata": {},
   "source": [
    "## 数学公式\n",
    "> 正文中\\$ 公式 \\$ 显示 单独一行显示\\$$ 公式 \\$$\n",
    "\n",
    "正文中$sqrt(x^2+y^2)$<p>单独一行$$sqrt(x^2+y^2)$$"
   ]
  },
  {
   "cell_type": "markdown",
   "metadata": {},
   "source": [
    "## 脚注\n",
    "> 在需要添加脚注的地方\\[^1\\] 在同一个cell下输入网址\n",
    "\n",
    "脚注[^1]<p>\n",
    "[^1](https://www.bilibili.com/read/cv11692514/)"
   ]
  },
  {
   "cell_type": "markdown",
   "metadata": {},
   "source": [
    "## 复选框\n",
    ">\\[\\]表示未完成  \\[x\\]表示已完成\n",
    "\n",
    "+ [  ] 未完成\n",
    "* [X] 已完成"
   ]
  }
 ],
 "metadata": {
  "kernelspec": {
   "display_name": "Python 3",
   "language": "python",
   "name": "python3"
  },
  "language_info": {
   "name": "python",
   "version": "3.8.18"
  },
  "orig_nbformat": 4
 },
 "nbformat": 4,
 "nbformat_minor": 2
}
